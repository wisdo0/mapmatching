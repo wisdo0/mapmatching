{
 "cells": [
  {
   "cell_type": "code",
   "execution_count": null,
   "metadata": {},
   "outputs": [],
   "source": [
    "import pandas as pd\n",
    "import numpy as np\n",
    "import os\n",
    "pathfiledir='.\\\\traj'\n",
    "stayfdir='.\\\\stayPointlast'\n",
    "storedir='.\\\\tag'\n",
    "for root, dirks, files in os.walk(pathfiledir):\n",
    "    for filename in files:\n",
    "        if os.path.exists(os.path.join(stayfdir,filename)):\n",
    "            traj=pd.read_csv(os.path.join(pathfiledir,filename))\n",
    "            period=pd.read_csv(os.path.join(stayfdir,filename),usecols=[\"arriving time\",\"leaving time\"])\n",
    "            # tag=[period[[\"arriving time\",\"leaving time\"]][(date >= period[\"arriving time\"]) & (date <= period[\"leaving time\"])] for date in traj['timestamp']]\n",
    "            tag=[period[[\"arriving time\",\"leaving time\"]][(traj.loc[each,'timestamp'] >= period[\"arriving time\"]) & (traj.loc[each+1,'timestamp'] <= period[\"leaving time\"])] for each in range(len(traj)-1)]\n",
    "            # blank=pd.DataFrame()\n",
    "            # tag.append(blank)\n",
    "            tag1=[0 if each.empty else 1 for each in tag]\n",
    "            tag1.append(0)\n",
    "            traj['status']=tag1\n",
    "            traj.to_csv(os.path.join(storedir,filename),index=0)"
   ]
  },
  {
   "cell_type": "code",
   "execution_count": null,
   "metadata": {},
   "outputs": [],
   "source": []
  }
 ],
 "metadata": {
  "kernelspec": {
   "display_name": "Python 3.7.12 ('wisdo')",
   "language": "python",
   "name": "python3"
  },
  "language_info": {
   "name": "python",
   "version": "3.7.12"
  },
  "orig_nbformat": 4,
  "vscode": {
   "interpreter": {
    "hash": "4f1d68002bb66cf15f4313948ac329e73092f33ce71ea346553ce86fbe47b6db"
   }
  }
 },
 "nbformat": 4,
 "nbformat_minor": 2
}
